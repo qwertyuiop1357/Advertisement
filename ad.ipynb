import time
import numpy as np 
import pandas as pd

df = pd.read_csv('./data.txt', sep=' ')
df['date'] = df['context_timestamp'].apply(lambda x: time.strftime('%Y-%m-%d', time.localtime(x)))
df.head()
